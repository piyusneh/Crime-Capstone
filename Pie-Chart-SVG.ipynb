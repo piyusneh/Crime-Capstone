{
 "cells": [
  {
   "cell_type": "code",
   "execution_count": null,
   "metadata": {},
   "outputs": [],
   "source": [
    "import pandas as pd\n",
    "import pygal\n",
    "from pygal.style import DarkStyle"
   ]
  },
  {
   "cell_type": "code",
   "execution_count": null,
   "metadata": {},
   "outputs": [],
   "source": [
    "l = ['Offences Relating to Documents & Property Marks' , 'Miscellaneous IPC Crimes' , \n",
    "     'Offences Affecting the Human Body','Offences Affecting the Human Body-2','Offences against Property',\n",
    "    'Offences against Public Tranquillity','Offences against the State']"
   ]
  },
  {
   "cell_type": "code",
   "execution_count": null,
   "metadata": {},
   "outputs": [],
   "source": [
    "    for i in l: \n",
    "        df = pd.read_csv(\"Raw Data/csv-files/{}.csv\".format(i))\n",
    "        ch = list(df.get('Crime Head'))\n",
    "        a = list(df.get('2017'))\n",
    "        b = list(df.get('2018'))\n",
    "        c = list(df.get('2019'))\n",
    "        a = [int(x) for x in a]\n",
    "        b = [int(y) for y in b]\n",
    "        c = [int(z) for z in c]\n",
    "        # 2017\n",
    "        bar_chart = pygal.Pie(fill=True , style= DarkStyle)\n",
    "        bar_chart.title = \"{}-2017\".format(i)\n",
    "        for j in range(len(ch)):\n",
    "            bar_chart.add(ch[j],a)\n",
    "        bar_chart.render_to_file('svg-files/{}/{}-2017.svg'.format(i,i)) \n",
    "        # 2018\n",
    "        bar_chart = pygal.Pie(fill=True , style= DarkStyle)\n",
    "        bar_chart.title = \"{}-2018\".format(i)\n",
    "        for k in range(len(ch)):\n",
    "            bar_chart.add(ch[k],b)\n",
    "        bar_chart.render_to_file('svg-files/{}/{}-2018.svg'.format(i,i)) \n",
    "        # #2019\n",
    "        bar_chart = pygal.Pie(fill=True , style= DarkStyle)\n",
    "        bar_chart.title = \"{}-2019\".format(i)\n",
    "        for m in range(len(ch)):\n",
    "            bar_chart.add(ch[m],c)\n",
    "        bar_chart.render_to_file('svg-files/{}/{}-2019.svg'.format(i,i))\n",
    "        print(\"created svg for {}\".format(i))"
   ]
  }
 ],
 "metadata": {
  "kernelspec": {
   "display_name": "Python 3",
   "language": "python",
   "name": "python3"
  },
  "language_info": {
   "codemirror_mode": {
    "name": "ipython",
    "version": 2
   },
   "file_extension": ".py",
   "mimetype": "text/x-python",
   "name": "python",
   "nbconvert_exporter": "python",
   "pygments_lexer": "ipython2",
   "version": "2.7.17"
  }
 },
 "nbformat": 4,
 "nbformat_minor": 2
}
