{
 "cells": [
  {
   "cell_type": "code",
   "execution_count": 1,
   "metadata": {},
   "outputs": [],
   "source": [
    "import pandas as pd\n",
    "import pygal\n",
    "from pygal.style import DarkStyle"
   ]
  },
  {
   "cell_type": "code",
   "execution_count": 23,
   "metadata": {},
   "outputs": [],
   "source": [
    "l = ['Offences Relating to Documents & Property Marks' , 'Miscellaneous IPC Crimes' , \n",
    "     'Offences Affecting the Human Body','Offences Affecting the Human Body-2','Offences against Property',\n",
    "    'Offences against Public Tranquillity','Offences against the State']"
   ]
  },
  {
   "cell_type": "code",
   "execution_count": 25,
   "metadata": {},
   "outputs": [
    {
     "name": "stdout",
     "output_type": "stream",
     "text": [
      "Writing Offences Relating to Documents & Property Marks.svg\n",
      "Writing Miscellaneous IPC Crimes.svg\n",
      "Writing Offences Affecting the Human Body.svg\n",
      "Writing Offences Affecting the Human Body-2.svg\n",
      "Writing Offences against Property.svg\n",
      "Writing Offences against Public Tranquillity.svg\n",
      "Writing Offences against the State.svg\n"
     ]
    }
   ],
   "source": [
    "for t in l:\n",
    "    line_chart = pygal.Line(style=DarkStyle)\n",
    "    line_chart.x_labels = '2017','2018','2019'\n",
    "    line_chart.title = '{}-(2017-2019)'.format(t)\n",
    "    df = pd.read_csv(\"Raw Data/csv-files/{}.csv\".format(t))\n",
    "    print(\"Writing {}.svg\".format(t))\n",
    "    ch = list(df.get('Crime Head'))\n",
    "    a = list(df.get('2017'))\n",
    "    b = list(df.get('2018'))\n",
    "    c = list(df.get('2019'))\n",
    "    a = [int(x) for x in a]\n",
    "    b = [int(y) for y in b]\n",
    "    c = [int(z) for z in c]\n",
    "    for i in range(len(ch)):\n",
    "        line_chart.add(ch[i],[a[i],b[i],c[i]]) \n",
    "    line_chart.render_to_file('svg-files/Line-charts/{}.svg'.format(t)) "
   ]
  }
 ],
 "metadata": {
  "kernelspec": {
   "display_name": "Python 3",
   "language": "python",
   "name": "python3"
  },
  "language_info": {
   "codemirror_mode": {
    "name": "ipython",
    "version": 2
   },
   "file_extension": ".py",
   "mimetype": "text/x-python",
   "name": "python",
   "nbconvert_exporter": "python",
   "pygments_lexer": "ipython2",
   "version": "2.7.17"
  }
 },
 "nbformat": 4,
 "nbformat_minor": 2
}
